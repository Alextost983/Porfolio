{
 "cells": [
  {
   "cell_type": "markdown",
   "metadata": {},
   "source": [
    "<div class=\"alert alert-info\">\n",
    "\n",
    "<b>Привет!👋</b>\n",
    "\n",
    "Меня зовут Тарас Лаврив, я буду проверять твой проект. У нас, в Яндекс практикуме, принято обращение на \"ты\"😏, но если тебе комфортнее обращаться на Вы, напиши об этом, пожалуйста. Я с удовольствием перейду на \"Вы\". \n",
    "\n",
    "Я помогу тебе с учёбой для будущего успешного поиска работы. Вместе мы оптимизируем твой код и оптимально решим задачи!\n",
    "Пожалуйста, не удаляй мои комментарии, они будут особенно полезны для нашей работы в случае повторной проверки проекта. \n",
    "\n",
    "Будет здорово, если ты будешь отвечать на мои комментарии своими, выделяя их цветами или так, как тебе понравится, но так, чтобы их можно было отличить от моих комментариев. Это нужно, чтобы не создавалась путаница😉\n",
    "\n",
    "Ты увидишь мои комментарии, обозначенные <font color='green'>зеленым</font>, <font color='gold'>желтым</font> и <font color='red'>красным</font> цветами, например:\n",
    "\n",
    "<br/>\n",
    "\n",
    "<div class=\"alert alert-success\">\n",
    "<h2> Комментарий ревьюера <a class=\"tocSkip\"> </h2>\n",
    "\n",
    "<b>Все отлично!👍:</b> В случае, если решение на отдельном шаге является полностью правильным.\n",
    "</div>\n",
    "\n",
    "<br/>\n",
    "\n",
    "<div class=\"alert alert-warning\">\n",
    "    <h2> Комментарий ревьюера <a class=\"tocSkip\"> </h2>\n",
    "    \n",
    "<b>Некоторые замечания и рекомендации💡:</b> В случае, когда решение на отдельном шаге станет еще лучше, если внести небольшие коррективы.\n",
    "</div>\n",
    "\n",
    "\n",
    "<br/>\n",
    "<div class=\"alert alert-block alert-danger\">\n",
    "<h2> Комментарий ревьюера <a class=\"tocSkip\"></h2>\n",
    "\n",
    "    \n",
    "<b>На доработку🤔:</b>\n",
    " В случае, когда решение на отдельном шаге требует существенной переработки и внесения правок. Напоминаю, что проект не может быть принят с первого раза, если ревью содержит комментарии, рекомендующие доработать шаги.\n",
    "</div>\n",
    "    \n",
    "Если в решении будут какие-то неточности, в первый раз я только укажу на их наличие и дам тебе возможность самостоятельно найти и исправить их. В реальной работе твои более опытные товарищи будут поступать также, и я хочу подготовить тебя именно к работе. Но если ты пока не справишься с такой задачей - при следующей проверке я дам более точную подсказку!🤓\n",
    "\n",
    "Мы все очень ценим время и усилия друг-друга, поэтому я постараюсь давать максимально эффективные комментарии и заботливо подойти к твоей работе.\n",
    "</div>"
   ]
  },
  {
   "cell_type": "markdown",
   "metadata": {},
   "source": [
    "<div class=\"alert alert-info\">\n",
    "<h2>V2 Комментарий ревьюера <a class=\"tocSkip\"> </h2>\n",
    "\n",
    "Cвои комментарии в этой итерации я буду отмечать таким образом."
   ]
  },
  {
   "cell_type": "markdown",
   "metadata": {
    "toc": true
   },
   "source": [
    "<h1>Содержание<span class=\"tocSkip\"></span></h1>\n",
    "<div class=\"toc\"><ul class=\"toc-item\"><li><span><a href=\"#Загрузка-данных\" data-toc-modified-id=\"Загрузка-данных-1\"><span class=\"toc-item-num\">1&nbsp;&nbsp;</span>Загрузка данных</a></span><ul class=\"toc-item\"><li><span><a href=\"#Загрузим-библиотеки-и-мдули\" data-toc-modified-id=\"Загрузим-библиотеки-и-мдули-1.1\"><span class=\"toc-item-num\">1.1&nbsp;&nbsp;</span>Загрузим библиотеки и мдули</a></span></li><li><span><a href=\"#Ознакомимся-с-содержимым\" data-toc-modified-id=\"Ознакомимся-с-содержимым-1.2\"><span class=\"toc-item-num\">1.2&nbsp;&nbsp;</span>Ознакомимся с содержимым</a></span></li><li><span><a href=\"#Посмотрим-на-распределение-для-выявления-выбросов\" data-toc-modified-id=\"Посмотрим-на-распределение-для-выявления-выбросов-1.3\"><span class=\"toc-item-num\">1.3&nbsp;&nbsp;</span>Посмотрим на распределение для выявления выбросов</a></span></li></ul></li><li><span><a href=\"#Умножение-матриц\" data-toc-modified-id=\"Умножение-матриц-2\"><span class=\"toc-item-num\">2&nbsp;&nbsp;</span>Умножение матриц</a></span></li><li><span><a href=\"#Алгоритм-преобразования\" data-toc-modified-id=\"Алгоритм-преобразования-3\"><span class=\"toc-item-num\">3&nbsp;&nbsp;</span>Алгоритм преобразования</a></span></li><li><span><a href=\"#Проверка-алгоритма\" data-toc-modified-id=\"Проверка-алгоритма-4\"><span class=\"toc-item-num\">4&nbsp;&nbsp;</span>Проверка алгоритма</a></span></li><li><span><a href=\"#Чек-лист-проверки\" data-toc-modified-id=\"Чек-лист-проверки-5\"><span class=\"toc-item-num\">5&nbsp;&nbsp;</span>Чек-лист проверки</a></span></li></ul></div>"
   ]
  },
  {
   "cell_type": "markdown",
   "metadata": {},
   "source": [
    "# Защита персональных данных клиентов"
   ]
  },
  {
   "cell_type": "markdown",
   "metadata": {},
   "source": [
    "Задача - защитить данные клиентов страховой компании «Хоть потоп». Разработаем такой метод преобразования данных, чтобы по ним было сложно восстановить персональную информацию. Обоснуем корректность его работы.\n",
    "\n",
    "Нужно защитить данные, чтобы при преобразовании качество моделей машинного обучения не ухудшилось. Подбирать наилучшую модель не требуется."
   ]
  },
  {
   "cell_type": "markdown",
   "metadata": {},
   "source": [
    "## Загрузка данных"
   ]
  },
  {
   "cell_type": "markdown",
   "metadata": {},
   "source": [
    "<h3>Загрузим библиотеки и мдули</h3>"
   ]
  },
  {
   "cell_type": "code",
   "execution_count": 9,
   "metadata": {},
   "outputs": [],
   "source": [
    "import pandas as pd\n",
    "import numpy as np\n",
    "from sklearn.metrics import r2_score\n",
    "import matplotlib.pyplot as plt\n",
    "import seaborn as sns\n",
    "from sklearn.model_selection import train_test_split\n",
    "from sklearn.linear_model import LinearRegression"
   ]
  },
  {
   "cell_type": "markdown",
   "metadata": {},
   "source": [
    "<div class=\"alert alert-success\">\n",
    "<h2> Комментарий ревьюера <a class=\"tocSkip\"> </h2>\n",
    "\n",
    "<b>Все отлично!👍:</b> \n",
    "\n",
    "Все импорты, собраны в одном месте отлично!"
   ]
  },
  {
   "cell_type": "code",
   "execution_count": 10,
   "metadata": {},
   "outputs": [],
   "source": [
    "data = pd.read_csv('/datasets/insurance.csv')"
   ]
  },
  {
   "cell_type": "markdown",
   "metadata": {},
   "source": [
    "<div class=\"alert alert-warning\">\n",
    "    <h2> Комментарий ревьюера <a class=\"tocSkip\"> </h2>\n",
    "    \n",
    "<b>Некоторые замечания и рекомендации💡:</b> \n",
    "        \n",
    "Для загрузки данных можно использовать try-except. Это поможет избежать ошибок в случае, если данные пропали, или повреждены. "
   ]
  },
  {
   "cell_type": "markdown",
   "metadata": {},
   "source": [
    "<h3>Ознакомимся с содержимым</h3>"
   ]
  },
  {
   "cell_type": "code",
   "execution_count": 11,
   "metadata": {},
   "outputs": [
    {
     "data": {
      "text/html": [
       "<div>\n",
       "<style scoped>\n",
       "    .dataframe tbody tr th:only-of-type {\n",
       "        vertical-align: middle;\n",
       "    }\n",
       "\n",
       "    .dataframe tbody tr th {\n",
       "        vertical-align: top;\n",
       "    }\n",
       "\n",
       "    .dataframe thead th {\n",
       "        text-align: right;\n",
       "    }\n",
       "</style>\n",
       "<table border=\"1\" class=\"dataframe\">\n",
       "  <thead>\n",
       "    <tr style=\"text-align: right;\">\n",
       "      <th></th>\n",
       "      <th>Пол</th>\n",
       "      <th>Возраст</th>\n",
       "      <th>Зарплата</th>\n",
       "      <th>Члены семьи</th>\n",
       "      <th>Страховые выплаты</th>\n",
       "    </tr>\n",
       "  </thead>\n",
       "  <tbody>\n",
       "    <tr>\n",
       "      <th>0</th>\n",
       "      <td>1</td>\n",
       "      <td>41.0</td>\n",
       "      <td>49600.0</td>\n",
       "      <td>1</td>\n",
       "      <td>0</td>\n",
       "    </tr>\n",
       "    <tr>\n",
       "      <th>1</th>\n",
       "      <td>0</td>\n",
       "      <td>46.0</td>\n",
       "      <td>38000.0</td>\n",
       "      <td>1</td>\n",
       "      <td>1</td>\n",
       "    </tr>\n",
       "    <tr>\n",
       "      <th>2</th>\n",
       "      <td>0</td>\n",
       "      <td>29.0</td>\n",
       "      <td>21000.0</td>\n",
       "      <td>0</td>\n",
       "      <td>0</td>\n",
       "    </tr>\n",
       "    <tr>\n",
       "      <th>3</th>\n",
       "      <td>0</td>\n",
       "      <td>21.0</td>\n",
       "      <td>41700.0</td>\n",
       "      <td>2</td>\n",
       "      <td>0</td>\n",
       "    </tr>\n",
       "    <tr>\n",
       "      <th>4</th>\n",
       "      <td>1</td>\n",
       "      <td>28.0</td>\n",
       "      <td>26100.0</td>\n",
       "      <td>0</td>\n",
       "      <td>0</td>\n",
       "    </tr>\n",
       "  </tbody>\n",
       "</table>\n",
       "</div>"
      ],
      "text/plain": [
       "   Пол  Возраст  Зарплата  Члены семьи  Страховые выплаты\n",
       "0    1     41.0   49600.0            1                  0\n",
       "1    0     46.0   38000.0            1                  1\n",
       "2    0     29.0   21000.0            0                  0\n",
       "3    0     21.0   41700.0            2                  0\n",
       "4    1     28.0   26100.0            0                  0"
      ]
     },
     "execution_count": 11,
     "metadata": {},
     "output_type": "execute_result"
    }
   ],
   "source": [
    "data.head()"
   ]
  },
  {
   "cell_type": "code",
   "execution_count": 12,
   "metadata": {},
   "outputs": [
    {
     "name": "stdout",
     "output_type": "stream",
     "text": [
      "<class 'pandas.core.frame.DataFrame'>\n",
      "RangeIndex: 5000 entries, 0 to 4999\n",
      "Data columns (total 5 columns):\n",
      " #   Column             Non-Null Count  Dtype  \n",
      "---  ------             --------------  -----  \n",
      " 0   Пол                5000 non-null   int64  \n",
      " 1   Возраст            5000 non-null   float64\n",
      " 2   Зарплата           5000 non-null   float64\n",
      " 3   Члены семьи        5000 non-null   int64  \n",
      " 4   Страховые выплаты  5000 non-null   int64  \n",
      "dtypes: float64(2), int64(3)\n",
      "memory usage: 195.4 KB\n"
     ]
    }
   ],
   "source": [
    "data.info()"
   ]
  },
  {
   "cell_type": "code",
   "execution_count": 13,
   "metadata": {},
   "outputs": [
    {
     "data": {
      "text/plain": [
       "4954"
      ]
     },
     "execution_count": 13,
     "metadata": {},
     "output_type": "execute_result"
    }
   ],
   "source": [
    "data['Возраст'].duplicated().sum()"
   ]
  },
  {
   "cell_type": "code",
   "execution_count": 14,
   "metadata": {},
   "outputs": [
    {
     "data": {
      "text/plain": [
       "4476"
      ]
     },
     "execution_count": 14,
     "metadata": {},
     "output_type": "execute_result"
    }
   ],
   "source": [
    "data['Зарплата'].duplicated().sum()"
   ]
  },
  {
   "cell_type": "code",
   "execution_count": 15,
   "metadata": {},
   "outputs": [
    {
     "data": {
      "text/plain": [
       "153"
      ]
     },
     "execution_count": 15,
     "metadata": {},
     "output_type": "execute_result"
    }
   ],
   "source": [
    "data.duplicated().sum()"
   ]
  },
  {
   "cell_type": "code",
   "execution_count": 16,
   "metadata": {},
   "outputs": [
    {
     "data": {
      "text/plain": [
       "Пол                  0\n",
       "Возраст              0\n",
       "Зарплата             0\n",
       "Члены семьи          0\n",
       "Страховые выплаты    0\n",
       "dtype: int64"
      ]
     },
     "execution_count": 16,
     "metadata": {},
     "output_type": "execute_result"
    }
   ],
   "source": [
    "data.isna().sum()"
   ]
  },
  {
   "cell_type": "markdown",
   "metadata": {},
   "source": [
    "<strong>Данные в порядке, имеются дупликаты, но можно предположить, что они не окажут влияния на качество модели. При  существующем объеме датасета и узком диапазоне возможных значений(Исключение Зарплата), это является нормой идем дальше</strong>"
   ]
  },
  {
   "cell_type": "markdown",
   "metadata": {},
   "source": [
    "<div class=\"alert alert-success\">\n",
    "<h2> Комментарий ревьюера <a class=\"tocSkip\"> </h2>\n",
    "\n",
    "<b>Все отлично!👍:</b> \n",
    "\n",
    "Массив отлично исследован!\n",
    " "
   ]
  },
  {
   "cell_type": "markdown",
   "metadata": {},
   "source": [
    "<h3>Посмотрим на распределение для выявления выбросов</h3>"
   ]
  },
  {
   "cell_type": "code",
   "execution_count": 17,
   "metadata": {},
   "outputs": [
    {
     "data": {
      "text/plain": [
       "<AxesSubplot:>"
      ]
     },
     "execution_count": 17,
     "metadata": {},
     "output_type": "execute_result"
    },
    {
     "data": {
      "image/png": "[encoded data removed]",
      "text/plain": [
       "<Figure size 432x288 with 1 Axes>"
      ]
     },
     "metadata": {
      "needs_background": "light"
     },
     "output_type": "display_data"
    }
   ],
   "source": [
    "data['Пол'].hist()"
   ]
  },
  {
   "cell_type": "code",
   "execution_count": 18,
   "metadata": {},
   "outputs": [
    {
     "data": {
      "text/plain": [
       "<AxesSubplot:>"
      ]
     },
     "execution_count": 18,
     "metadata": {},
     "output_type": "execute_result"
    },
    {
     "data": {
      "image/png": "[encoded data removed]",
      "text/plain": [
       "<Figure size 432x288 with 1 Axes>"
      ]
     },
     "metadata": {
      "needs_background": "light"
     },
     "output_type": "display_data"
    }
   ],
   "source": [
    "data['Возраст'].hist()"
   ]
  },
  {
   "cell_type": "code",
   "execution_count": 19,
   "metadata": {},
   "outputs": [
    {
     "data": {
      "text/plain": [
       "<AxesSubplot:>"
      ]
     },
     "execution_count": 19,
     "metadata": {},
     "output_type": "execute_result"
    },
    {
     "data": {
      "image/png": "[encoded data removed]",
      "text/plain": [
       "<Figure size 432x288 with 1 Axes>"
      ]
     },
     "metadata": {
      "needs_background": "light"
     },
     "output_type": "display_data"
    }
   ],
   "source": [
    "data['Зарплата'].hist()"
   ]
  },
  {
   "cell_type": "code",
   "execution_count": 20,
   "metadata": {},
   "outputs": [
    {
     "data": {
      "text/plain": [
       "<AxesSubplot:>"
      ]
     },
     "execution_count": 20,
     "metadata": {},
     "output_type": "execute_result"
    },
    {
     "data": {
      "image/png": "[encoded data removed]",
      "text/plain": [
       "<Figure size 432x288 with 1 Axes>"
      ]
     },
     "metadata": {
      "needs_background": "light"
     },
     "output_type": "display_data"
    }
   ],
   "source": [
    "data['Члены семьи'].hist()"
   ]
  },
  {
   "cell_type": "code",
   "execution_count": 21,
   "metadata": {},
   "outputs": [
    {
     "data": {
      "text/plain": [
       "<AxesSubplot:>"
      ]
     },
     "execution_count": 21,
     "metadata": {},
     "output_type": "execute_result"
    },
    {
     "data": {
      "image/png": "[encoded data removed]",
      "text/plain": [
       "<Figure size 432x288 with 1 Axes>"
      ]
     },
     "metadata": {
      "needs_background": "light"
     },
     "output_type": "display_data"
    }
   ],
   "source": [
    "data['Страховые выплаты'].hist()"
   ]
  },
  {
   "cell_type": "markdown",
   "metadata": {},
   "source": [
    "<strong>Выбросов нет, в дополнительных манипуляциях нет смысла</strong>"
   ]
  },
  {
   "cell_type": "markdown",
   "metadata": {},
   "source": [
    "<div class=\"alert alert-success\">\n",
    "<h2> Комментарий ревьюера <a class=\"tocSkip\"> </h2>\n",
    "\n",
    "<b>Все отлично!👍:</b> \n",
    "    \n",
    "Графики, хорошие, очень репрезентативные!"
   ]
  },
  {
   "cell_type": "markdown",
   "metadata": {},
   "source": [
    "## Умножение матриц"
   ]
  },
  {
   "cell_type": "markdown",
   "metadata": {},
   "source": [
    "В этом задании вы можете записывать формулы в *Jupyter Notebook.*\n",
    "\n",
    "Чтобы записать формулу внутри текста, окружите её символами доллара \\\\$; если снаружи —  двойными символами \\\\$\\\\$. Эти формулы записываются на языке вёрстки *LaTeX.* \n",
    "\n",
    "Для примера мы записали формулы линейной регрессии. Можете их скопировать и отредактировать, чтобы решить задачу.\n",
    "\n",
    "Работать в *LaTeX* необязательно."
   ]
  },
  {
   "cell_type": "markdown",
   "metadata": {},
   "source": [
    "Обозначения:\n",
    "\n",
    "- $X$ — матрица признаков (нулевой столбец состоит из единиц)\n",
    "\n",
    "- $y$ — вектор целевого признака\n",
    "\n",
    "- $P$ — матрица, на которую умножаются признаки\n",
    "\n",
    "- $w$ — вектор весов линейной регрессии (нулевой элемент равен сдвигу)"
   ]
  },
  {
   "cell_type": "markdown",
   "metadata": {},
   "source": [
    "Предсказания:\n",
    "\n",
    "$$\n",
    "a = Xw\n",
    "$$\n",
    "\n",
    "Задача обучения:\n",
    "\n",
    "$$\n",
    "w = \\arg\\min_w MSE(Xw, y)\n",
    "$$\n",
    "\n",
    "Формула обучения:\n",
    "\n",
    "$$\n",
    "w = (X^T X)^{-1} X^T y\n",
    "$$"
   ]
  },
  {
   "cell_type": "markdown",
   "metadata": {},
   "source": [
    "<strong>Признаки умножают на обратимую матрицу. Поставлен вопрос. Изменится ли качество линейной регрессии?</strong> "
   ]
  },
  {
   "cell_type": "markdown",
   "metadata": {},
   "source": [
    "Для обоснования изменений, запишем матрицыу признаков в новом представлении с учетом домнажения на обратную матрицу:"
   ]
  },
  {
   "cell_type": "markdown",
   "metadata": {},
   "source": [
    "$$\n",
    "D = XP\n",
    "$$"
   ]
  },
  {
   "cell_type": "markdown",
   "metadata": {},
   "source": [
    "Изменим основные формулы с учетом вновь образованной матрицы"
   ]
  },
  {
   "cell_type": "markdown",
   "metadata": {},
   "source": [
    "Формула предсказаний:\n",
    "$\n",
    "A = DW\n",
    "$"
   ]
  },
  {
   "cell_type": "markdown",
   "metadata": {},
   "source": [
    "Формула обучения: $\n",
    "W = (D^T D)^{-1} D^T y\n",
    "$"
   ]
  },
  {
   "cell_type": "markdown",
   "metadata": {},
   "source": [
    "где $\n",
    "W\n",
    "$ - вектор весов"
   ]
  },
  {
   "cell_type": "markdown",
   "metadata": {},
   "source": [
    "Используем содержимое $D$  для преобразования формулы обучения:"
   ]
  },
  {
   "cell_type": "markdown",
   "metadata": {},
   "source": [
    "Исходная формула:"
   ]
  },
  {
   "cell_type": "markdown",
   "metadata": {},
   "source": [
    "\n",
    "$$\n",
    "W = (D^T D)^{-1} D^T y$$\n"
   ]
  },
  {
   "cell_type": "markdown",
   "metadata": {},
   "source": [
    "Подставим значения из вновь созданной:"
   ]
  },
  {
   "cell_type": "markdown",
   "metadata": {},
   "source": [
    "$$\n",
    "W = ((XP)^T (XP))^{-1} (XP)^T y$$\n"
   ]
  },
  {
   "cell_type": "markdown",
   "metadata": {},
   "source": [
    "Раскроем скобки со множетелями:"
   ]
  },
  {
   "cell_type": "markdown",
   "metadata": {},
   "source": [
    "$$\n",
    "W = (P^TX^T XP)^{-1} P^T X^T y$$\n"
   ]
  },
  {
   "cell_type": "markdown",
   "metadata": {},
   "source": [
    "Вынесем за скобки P:"
   ]
  },
  {
   "cell_type": "markdown",
   "metadata": {},
   "source": [
    "$$\n",
    "W = (P^T(X^T X)P)^{-1} P^T X^T y$$\n",
    "\n"
   ]
  },
  {
   "cell_type": "markdown",
   "metadata": {},
   "source": [
    "$$\n",
    "W = P^{-1}(X^T X)^{-1}(P^T)^{-1} P^T X^T y$$"
   ]
  },
  {
   "cell_type": "markdown",
   "metadata": {},
   "source": [
    "Свойство матрицы при умножении на обратную предполагает в результате единичную матрицу(E)"
   ]
  },
  {
   "cell_type": "markdown",
   "metadata": {},
   "source": [
    "В итоге:"
   ]
  },
  {
   "cell_type": "markdown",
   "metadata": {},
   "source": [
    "$$\n",
    "P^T(P^T)^{-1} = E\n",
    "$$"
   ]
  },
  {
   "cell_type": "markdown",
   "metadata": {},
   "source": [
    "Вектор весов линейной регрессии выглядит так:"
   ]
  },
  {
   "cell_type": "markdown",
   "metadata": {},
   "source": [
    "$$\n",
    "W = EP^{-1}(X^TX)^{-1}X^Ty\n",
    "$$"
   ]
  },
  {
   "cell_type": "markdown",
   "metadata": {},
   "source": [
    "Таким образом, при умножении любой матрицы на единичную, получаем му же самую матрицу. "
   ]
  },
  {
   "cell_type": "markdown",
   "metadata": {},
   "source": [
    "$$\n",
    "W = P^{-1}(X^TX)^{-1}X^Ty\n",
    "$$"
   ]
  },
  {
   "cell_type": "markdown",
   "metadata": {},
   "source": [
    "Упростим полученную формулу и представим ее в виде $W = P^{-1}w$"
   ]
  },
  {
   "cell_type": "markdown",
   "metadata": {},
   "source": [
    "исходи из $ w = (X^TX)^{-1}X^Ty$"
   ]
  },
  {
   "cell_type": "markdown",
   "metadata": {},
   "source": [
    "Формула предсказаний получит слудующий вид после трансформации:$A = D(P^{-1}w)$"
   ]
  },
  {
   "cell_type": "markdown",
   "metadata": {},
   "source": [
    "$A = XP(P^{-1}w)$"
   ]
  },
  {
   "cell_type": "markdown",
   "metadata": {},
   "source": [
    "Сократим исходную формулу убрав матрицу на которую умножаем и обратную ей"
   ]
  },
  {
   "cell_type": "markdown",
   "metadata": {},
   "source": [
    "$$A = Xw$$"
   ]
  },
  {
   "cell_type": "markdown",
   "metadata": {},
   "source": [
    "<div class=\"alert alert-block alert-danger\">\n",
    "<h2> Комментарий ревьюера <a class=\"tocSkip\"></h2>\n",
    "\n",
    "    \n",
    "<b>На доработку🤔:</b>\n",
    "    \n",
    "Ход мысли правильный, молодец, но доказательство не верное. \n",
    "    \n",
    "    \n",
    "Транспонированное произведение матриц равно произведению транспонированных матриц, взятых в обратном порядке.\n",
    "\n",
    "$$\n",
    "(XP)^T = X^T*P^T\n",
    "$$\n",
    "\n",
    "поэтому это тут неверно раскрываются скобки:\n",
    "    $$\n",
    "W = ((XP)^T (XP))^{-1} (XP)^T y$$\n",
    "    $$\n",
    "W = (X^TP^T XP)^{-1} X^TP^T y$$\n"
   ]
  },
  {
   "cell_type": "markdown",
   "metadata": {},
   "source": [
    "<div class=\"alert alert-info\">\n",
    "    Доработка 1: Формула выше исправлена, скобки раскрыты в обратном порядке для транспонированных матриц"
   ]
  },
  {
   "cell_type": "markdown",
   "metadata": {},
   "source": [
    "<div class=\"alert alert-success\">\n",
    "<h2>V2 Комментарий ревьюера <a class=\"tocSkip\"> </h2>\n",
    "\n",
    "<b>Все отлично!👍:</b> \n",
    "\n",
    "Теперь доказательство правильное, молодец!"
   ]
  },
  {
   "cell_type": "markdown",
   "metadata": {},
   "source": [
    "**Ответ:** Качество линейной регрессии не изменится\n",
    "\n",
    "**Обоснование:** В результате умножения матрицы признаков в формуле предсказаний на обратимую изменений в структуре не произошло"
   ]
  },
  {
   "cell_type": "markdown",
   "metadata": {},
   "source": [
    "## Алгоритм преобразования"
   ]
  },
  {
   "cell_type": "markdown",
   "metadata": {},
   "source": [
    "**Алгоритм**\n",
    "\n",
    "Исходя из расчетов выше можем преобразовать матрицу признаков умножением на случайно сгенерированную матрицу, которая соразмерна исходной"
   ]
  },
  {
   "cell_type": "markdown",
   "metadata": {},
   "source": [
    "<div class=\"alert alert-block alert-danger\">\n",
    "<h2> Комментарий ревьюера <a class=\"tocSkip\"></h2>\n",
    "\n",
    "    \n",
    "<b>На доработку🤔:</b>\n",
    "        \n",
    "В пункте \"Алгоритм\" необходимо в виде текста подготовить и расписать подробный алгоритм последующих действий, по пунктам, для дальнейшей его реализации в виде кода. \n",
    "Я вижу, понимание алгоритма, и его верную реализацию в следующем задании. Здесь его нужно просто пошагово описать.\n",
    "    "
   ]
  },
  {
   "cell_type": "markdown",
   "metadata": {},
   "source": [
    "<div class=\"alert alert-info\">\n",
    "    Доработка 1: Выполнено"
   ]
  },
  {
   "cell_type": "markdown",
   "metadata": {},
   "source": [
    "\n",
    "* 1.Используем обычный алгоритм линейного преобразования. Массив данных из датасета домнажаем на обратимую матрицу, котору создаем с помщью генератора случайных чисел.\n",
    "* 2.Разделяем данные на обучающую и тестовую выборки\n",
    "* 3.Обучим модель\n",
    "* 4.Получим предсказания\n",
    "* 5.Оценим качество предсказанной модели"
   ]
  },
  {
   "cell_type": "markdown",
   "metadata": {},
   "source": [
    "<div class=\"alert alert-success\">\n",
    "<h2>V2 Комментарий ревьюера <a class=\"tocSkip\"> </h2>\n",
    "\n",
    "<b>Все отлично!👍:</b> \n",
    "    \n",
    "Прекрасно, теперь алгоритм правильный!"
   ]
  },
  {
   "cell_type": "markdown",
   "metadata": {},
   "source": [
    "**Обоснование**"
   ]
  },
  {
   "cell_type": "markdown",
   "metadata": {},
   "source": [
    "Разделим датасет на фитчи и таргет"
   ]
  },
  {
   "cell_type": "code",
   "execution_count": 22,
   "metadata": {},
   "outputs": [],
   "source": [
    "features = data.drop(['Страховые выплаты'], axis=1)\n",
    "target = data['Страховые выплаты']"
   ]
  },
  {
   "cell_type": "markdown",
   "metadata": {},
   "source": [
    "Создадим матрицу по размеру равную матрице с исходными признаками"
   ]
  },
  {
   "cell_type": "code",
   "execution_count": 23,
   "metadata": {},
   "outputs": [],
   "source": [
    "random_matrix = np.random.randn(4, 4)"
   ]
  },
  {
   "cell_type": "markdown",
   "metadata": {},
   "source": [
    "<div class=\"alert alert-info\">\n",
    "  Доработка 1: Добавил проверку матрицы на обратимость"
   ]
  },
  {
   "cell_type": "code",
   "execution_count": 25,
   "metadata": {},
   "outputs": [
    {
     "data": {
      "text/plain": [
       "array([[-0.56781374,  1.52313666, -0.5467933 ,  1.30969218],\n",
       "       [-0.20638116, -1.99117063, -0.9668694 , -2.21679172],\n",
       "       [-0.45394999, -0.29961959, -0.34708028, -0.89503048],\n",
       "       [-0.41577948, -4.79425092, -0.86639338, -4.51210449]])"
      ]
     },
     "execution_count": 25,
     "metadata": {},
     "output_type": "execute_result"
    }
   ],
   "source": [
    "# проверка обратимости матрицы\n",
    "np.linalg.inv(random_matrix)"
   ]
  },
  {
   "cell_type": "markdown",
   "metadata": {},
   "source": [
    "<div class=\"alert alert-block alert-danger\">\n",
    "<h2> Комментарий ревьюера <a class=\"tocSkip\"></h2>\n",
    "\n",
    "    \n",
    "<b>На доработку🤔:</b>\n",
    "        \n",
    "Обязательно нужно явно проверить полученную матрицу на обратимость, и зафиксировать этот шаг в алгоритме."
   ]
  },
  {
   "cell_type": "markdown",
   "metadata": {},
   "source": [
    "<div class=\"alert alert-success\">\n",
    "<h2>V2 Комментарий ревьюера <a class=\"tocSkip\"> </h2>\n",
    "\n",
    "<b>Все отлично!👍:</b> \n",
    "\n",
    "Спасибо за корректировку!"
   ]
  },
  {
   "cell_type": "markdown",
   "metadata": {},
   "source": [
    "Посмотрим как будет выглядеть результат иходных данных, подставив их в формулу"
   ]
  },
  {
   "cell_type": "code",
   "execution_count": 26,
   "metadata": {},
   "outputs": [],
   "source": [
    "# Составим вектор весов линейной регрессии по исходным данным\n",
    "w = np.linalg.inv(features.T.dot(features)).dot(features.T).dot(target)\n",
    "# умножим матрицу признаков на полученный вектор\n",
    "a = features @ w"
   ]
  },
  {
   "cell_type": "markdown",
   "metadata": {},
   "source": [
    "Получим второй результат используя новые параметры"
   ]
  },
  {
   "cell_type": "code",
   "execution_count": 27,
   "metadata": {},
   "outputs": [],
   "source": [
    "# Умножим исходную матрицу на рандомную, получив обновленную таблицу\n",
    "features_new = features @ random_matrix"
   ]
  },
  {
   "cell_type": "code",
   "execution_count": 28,
   "metadata": {},
   "outputs": [],
   "source": [
    "w2 = np.linalg.inv(features_new.T.dot(features_new)).dot(features_new.T).dot(target)\n",
    "a2 = features_new @ w2"
   ]
  },
  {
   "cell_type": "markdown",
   "metadata": {},
   "source": [
    "Проверим, какая будет разница между предсказаниями"
   ]
  },
  {
   "cell_type": "code",
   "execution_count": 29,
   "metadata": {},
   "outputs": [],
   "source": [
    "difference = a - a2"
   ]
  },
  {
   "cell_type": "code",
   "execution_count": 30,
   "metadata": {},
   "outputs": [
    {
     "data": {
      "text/plain": [
       "-0.0006355444237326262"
      ]
     },
     "execution_count": 30,
     "metadata": {},
     "output_type": "execute_result"
    }
   ],
   "source": [
    "difference.sum()"
   ]
  },
  {
   "cell_type": "markdown",
   "metadata": {},
   "source": [
    "<strong>Вывод:</strong>  Разница небольшая, поэмоту алгоритм вполне подходит для общей задачи проекта по трансформации числовых признаков."
   ]
  },
  {
   "cell_type": "markdown",
   "metadata": {},
   "source": [
    "<div class=\"alert alert-success\">\n",
    "<h2> Комментарий ревьюера <a class=\"tocSkip\"> </h2>\n",
    "\n",
    "<b>Все отлично!👍:</b> \n",
    "\n",
    "Обоснование правильное! "
   ]
  },
  {
   "cell_type": "markdown",
   "metadata": {},
   "source": [
    "## Проверка алгоритма"
   ]
  },
  {
   "cell_type": "markdown",
   "metadata": {},
   "source": [
    "Введем новый класс Линейной Регрессии"
   ]
  },
  {
   "cell_type": "markdown",
   "metadata": {},
   "source": [
    "<div class=\"alert alert-info\">\n",
    "    Доработка 1: Даннные исправлены, выборки разделены, соответствующие изменения внесены"
   ]
  },
  {
   "cell_type": "code",
   "execution_count": 31,
   "metadata": {},
   "outputs": [],
   "source": [
    "features_train, features_test, target_train, target_test = train_test_split(\n",
    "features,    target,     random_state=12345,shuffle=True,   test_size=0.25)"
   ]
  },
  {
   "cell_type": "code",
   "execution_count": 32,
   "metadata": {},
   "outputs": [],
   "source": [
    "# Создадим собственный класс с персонализированной и обучим его на первичных данных\n",
    "class ConstantRegression:\n",
    "    def model_fit(self, features_train, target_train):\n",
    "        self.model = LinearRegression()\n",
    "        self.model.fit(features_train, target_train)\n",
    "# Применим к модели предсказание на исходных фитчах      \n",
    "    def predict_result(self, features_test):\n",
    "        result = self.model.predict(features_test)\n",
    "        return result\n",
    "# Выведем метрику качества сравнив исходные и предсказанные данные      \n",
    "    def get_r2_score(self, target_test, predict):\n",
    "        r2 = r2_score(target_test, predict)\n",
    "        return r2  "
   ]
  },
  {
   "cell_type": "markdown",
   "metadata": {},
   "source": [
    "<div class=\"alert alert-success\">\n",
    "<h2> Комментарий ревьюера <a class=\"tocSkip\"> </h2>\n",
    "\n",
    "<b>Все отлично!👍:</b> \n",
    "\n",
    "Очень круто, что пишешь свой класс для регессии!"
   ]
  },
  {
   "cell_type": "markdown",
   "metadata": {},
   "source": [
    "Получим метрики используя созданный класс в качестве обучаемой модели, используя его функции, как базовые для обучения и предсказания метрик и качества"
   ]
  },
  {
   "cell_type": "markdown",
   "metadata": {},
   "source": [
    "<div class=\"alert alert-warning\">\n",
    "    <h2> Комментарий ревьюера <a class=\"tocSkip\"> </h2>\n",
    "    \n",
    "<b>Некоторые замечания и рекомендации💡:</b> \n",
    "        \n",
    "Перед обучением модели всегда лучше производить деление массива данных на train/test, для того, чтобы избежать  переобучения нашей модели, и, как следствие, повысить её качество."
   ]
  },
  {
   "cell_type": "code",
   "execution_count": 33,
   "metadata": {},
   "outputs": [],
   "source": [
    "# Для исходных признаков\n",
    "model_c = ConstantRegression()\n",
    "model_c.model_fit(features, target)\n",
    "predict_2_features = model_c.predict_result(features)\n",
    "r2_for_2_features = model_c.get_r2_score(target, predict_2_features)"
   ]
  },
  {
   "cell_type": "code",
   "execution_count": 34,
   "metadata": {},
   "outputs": [],
   "source": [
    "# Для признаков после умножения на  обратимую матрицу\n",
    "model_c1 = ConstantRegression()\n",
    "model_c1.model_fit(features_new, target)\n",
    "predict_2_new_features = model_c1.predict_result(features_new)\n",
    "r2_for_2_new_features = model_c1.get_r2_score(target, predict_2_new_features)"
   ]
  },
  {
   "cell_type": "markdown",
   "metadata": {},
   "source": [
    "Посмотрим на отклонение через метрику R2"
   ]
  },
  {
   "cell_type": "markdown",
   "metadata": {},
   "source": [
    "<div class=\"alert alert-warning\">\n",
    "    <h2> Комментарий ревьюера <a class=\"tocSkip\"> </h2>\n",
    "    \n",
    "<b>Некоторые замечания и рекомендации💡:</b> \n",
    "        \n",
    "У тебя тебя несколько раз повторяется практически одинаковый код, для соблюдения принципов ООП, лучше создать функцию, и вызывать её в случае необходимости."
   ]
  },
  {
   "cell_type": "code",
   "execution_count": 35,
   "metadata": {},
   "outputs": [
    {
     "name": "stdout",
     "output_type": "stream",
     "text": [
      "\n",
      "Значение R2 при использовании исходных признаков - 0.4249455028666801\n",
      "\n",
      "Значение R2 при использовании признаков, умноженых на обратимую матрицу - 0.42494550286667143\n"
     ]
    }
   ],
   "source": [
    "print('\\nЗначение R2 при использовании исходных признаков -', r2_for_2_features)\n",
    "print('\\nЗначение R2 при использовании признаков, умноженых на обратимую матрицу -', r2_for_2_new_features)"
   ]
  },
  {
   "cell_type": "markdown",
   "metadata": {},
   "source": [
    "<strong>ВЫВОД: </strong>  Проведенные манипуляция оказались эффективными для разработки модели Линейной регрессии с высоким качеством и низкой погрешностью, при сравнении результатов по исходным данным и умноженным на обратную матрицу. Искажение данных минимально при кодировке фитчей обратимой матрицей. Модель можно запускать в продакшн."
   ]
  },
  {
   "cell_type": "markdown",
   "metadata": {},
   "source": [
    "<div class=\"alert alert-success\">\n",
    "<h2> Комментарий ревьюера <a class=\"tocSkip\"> </h2>\n",
    "\n",
    "<b>Все отлично!👍:</b> \n",
    "\n",
    "Молодец, хороший вывод!"
   ]
  },
  {
   "cell_type": "markdown",
   "metadata": {},
   "source": [
    "<div class=\"alert alert-info\">\n",
    "\n",
    "**Общий вывод по проекту**\n",
    "\n",
    "Спасибо за твой проект! В него действительно вложено много сил и времени! Есть несколько важных моментов, которые я отметил и которые можно было бы улучшить, подсказки ты найдешь в моих комментариях. \n",
    "\n",
    "**Отмечу отдельные положительные моменты проекта🙂**:\n",
    " \n",
    "* Использование методов из программы курса на высоте. Хорошая работа!\n",
    "* Работа проделана действительно масштабная и видно, что ты очень стараешься!\n",
    "* Отлично разработан класс!\n",
    "\n",
    "**На что стоит обратить внимание🤓**:\n",
    "\n",
    "* Доработать доказательство.\n",
    "* Поправить алгоритм в третьем задании.\n",
    "* Проверить матрицу шифрования на обратимость.\n",
    "* Остальные рекомендации ты найдешь в моих комментариях!\n",
    "\n",
    "\n",
    "**Отличная работа! Скорректируй те моменты, на которые я указал и отправляй проект на повторное ревью!**😉\n"
   ]
  },
  {
   "cell_type": "markdown",
   "metadata": {},
   "source": [
    "<div class=\"alert alert-info\">\n",
    "Резюме по доработке: Хочу попросить разъяснения по созданию функции в данном случае!"
   ]
  },
  {
   "cell_type": "markdown",
   "metadata": {},
   "source": [
    "<div class=\"alert alert-info\">\n",
    "<h2>V2 Комментарий ревьюера <a class=\"tocSkip\"> </h2>\n",
    "\n",
    "Обрати внимание, у тебя несколько раз повторяется код обучения моделей. почитай про принцыпы ООП, их соблюдение помгает сэкономить время при написании больших проектов. Так как если ты один раз напишешь удачную функцию, ты сможешь переиспользовать её в дальнейшем. Можешь даже создать библиотеку со своими функциями."
   ]
  },
  {
   "cell_type": "markdown",
   "metadata": {},
   "source": [
    "<div class=\"alert alert-info\">\n",
    "<h2>V2 Общий вывод <a class=\"tocSkip\"> </h2>\n",
    "\n",
    "Теперь всё отлично, хорошая работа!\n",
    "    \n",
    "\n",
    "Если есть желание поподробнее познакомиться с этой темой, вот список литературы с которой можно ознакомиться:\n",
    "    \n",
    "    \n",
    "* Обзоры по применению криптографии в машинном обучении: https://arxiv.org/pdf/1902.04109.pdf, https://www.researchgate.net/publication/342746786_Some_Applications_of_Machine_Learning_in_Cryptography\n",
    "    \n",
    "* Подробнее про аналогичный алгоритм: https://www.cs.cmu.edu/~rjhall/JOS_revised_May_31a.pdf\n"
   ]
  },
  {
   "cell_type": "markdown",
   "metadata": {},
   "source": [
    "## Чек-лист проверки"
   ]
  },
  {
   "cell_type": "markdown",
   "metadata": {},
   "source": [
    "Поставьте 'x' в выполненных пунктах. Далее нажмите Shift+Enter."
   ]
  },
  {
   "cell_type": "markdown",
   "metadata": {},
   "source": [
    "- [x]  Jupyter Notebook открыт\n",
    "- [x]  Весь код выполняется без ошибок\n",
    "- [x]  Ячейки с кодом расположены в порядке исполнения\n",
    "- [x]  Выполнен шаг 1: данные загружены\n",
    "- [x]  Выполнен шаг 2: получен ответ на вопрос об умножении матриц\n",
    "    - [x]  Указан правильный вариант ответа\n",
    "    - [x]  Вариант обоснован\n",
    "- [x]  Выполнен шаг 3: предложен алгоритм преобразования\n",
    "    - [x]  Алгоритм описан\n",
    "    - [x]  Алгоритм обоснован\n",
    "- [x]  Выполнен шаг 4: алгоритм проверен\n",
    "    - [x]  Алгоритм реализован\n",
    "    - [x]  Проведено сравнение качества моделей до и после преобразования"
   ]
  }
 ],
 "metadata": {
  "ExecuteTimeLog": [
   {
    "duration": 1103,
    "start_time": "2023-06-26T06:40:14.107Z"
   },
   {
    "duration": 90,
    "start_time": "2023-06-26T06:42:02.996Z"
   },
   {
    "duration": 2,
    "start_time": "2023-06-26T06:42:08.656Z"
   },
   {
    "duration": 9,
    "start_time": "2023-06-26T06:42:09.937Z"
   },
   {
    "duration": 92,
    "start_time": "2023-06-26T06:43:07.492Z"
   },
   {
    "duration": 27,
    "start_time": "2023-06-26T06:43:26.057Z"
   },
   {
    "duration": 15,
    "start_time": "2023-06-26T06:44:02.914Z"
   },
   {
    "duration": 8,
    "start_time": "2023-06-26T06:47:28.742Z"
   },
   {
    "duration": 9,
    "start_time": "2023-06-26T06:48:04.853Z"
   },
   {
    "duration": 5,
    "start_time": "2023-06-26T06:48:35.099Z"
   },
   {
    "duration": 11,
    "start_time": "2023-06-26T06:50:10.844Z"
   },
   {
    "duration": 28,
    "start_time": "2023-06-26T06:51:43.116Z"
   },
   {
    "duration": 10,
    "start_time": "2023-06-26T06:56:40.112Z"
   },
   {
    "duration": 7,
    "start_time": "2023-06-26T06:57:12.410Z"
   },
   {
    "duration": 6,
    "start_time": "2023-06-26T06:57:22.292Z"
   },
   {
    "duration": 7,
    "start_time": "2023-06-26T06:57:32.932Z"
   },
   {
    "duration": 74,
    "start_time": "2023-06-26T06:59:00.345Z"
   },
   {
    "duration": 10,
    "start_time": "2023-06-26T07:09:06.704Z"
   },
   {
    "duration": 6,
    "start_time": "2023-06-26T07:09:10.442Z"
   },
   {
    "duration": 4,
    "start_time": "2023-06-26T07:10:03.831Z"
   },
   {
    "duration": 5,
    "start_time": "2023-06-26T07:10:44.217Z"
   },
   {
    "duration": 4,
    "start_time": "2023-06-26T07:12:08.212Z"
   },
   {
    "duration": 4,
    "start_time": "2023-06-26T07:14:56.637Z"
   },
   {
    "duration": 9,
    "start_time": "2023-06-26T07:15:05.697Z"
   },
   {
    "duration": 649,
    "start_time": "2023-06-26T07:47:54.798Z"
   },
   {
    "duration": 28,
    "start_time": "2023-06-26T07:47:55.448Z"
   },
   {
    "duration": 9,
    "start_time": "2023-06-26T07:47:56.100Z"
   },
   {
    "duration": 11,
    "start_time": "2023-06-26T07:47:56.525Z"
   },
   {
    "duration": 5,
    "start_time": "2023-06-26T07:47:57.129Z"
   },
   {
    "duration": 4,
    "start_time": "2023-06-26T07:47:57.702Z"
   },
   {
    "duration": 6,
    "start_time": "2023-06-26T07:47:58.020Z"
   },
   {
    "duration": 5,
    "start_time": "2023-06-26T07:47:58.333Z"
   },
   {
    "duration": 125,
    "start_time": "2023-06-26T07:59:21.069Z"
   },
   {
    "duration": 121,
    "start_time": "2023-06-26T07:59:33.800Z"
   },
   {
    "duration": 131,
    "start_time": "2023-06-26T08:02:06.014Z"
   },
   {
    "duration": 23,
    "start_time": "2023-06-26T08:02:11.999Z"
   },
   {
    "duration": 10,
    "start_time": "2023-06-26T08:03:44.552Z"
   },
   {
    "duration": 8,
    "start_time": "2023-06-26T08:03:59.321Z"
   },
   {
    "duration": 114,
    "start_time": "2023-06-26T08:05:14.000Z"
   },
   {
    "duration": 199,
    "start_time": "2023-06-26T08:05:21.365Z"
   },
   {
    "duration": 145,
    "start_time": "2023-06-26T08:05:32.040Z"
   },
   {
    "duration": 135,
    "start_time": "2023-06-26T08:05:36.363Z"
   },
   {
    "duration": 143,
    "start_time": "2023-06-26T08:06:03.804Z"
   },
   {
    "duration": 118,
    "start_time": "2023-06-26T08:06:37.398Z"
   },
   {
    "duration": 111,
    "start_time": "2023-06-26T08:08:06.727Z"
   },
   {
    "duration": 1709,
    "start_time": "2023-06-26T08:09:27.732Z"
   },
   {
    "duration": 64,
    "start_time": "2023-06-26T08:25:01.595Z"
   },
   {
    "duration": 115,
    "start_time": "2023-06-27T07:27:17.719Z"
   },
   {
    "duration": 3,
    "start_time": "2023-06-27T07:30:46.866Z"
   },
   {
    "duration": 4,
    "start_time": "2023-06-27T07:30:58.030Z"
   },
   {
    "duration": 1445,
    "start_time": "2023-06-27T07:33:34.357Z"
   },
   {
    "duration": 3,
    "start_time": "2023-06-27T07:34:03.051Z"
   },
   {
    "duration": 3,
    "start_time": "2023-06-27T07:34:13.515Z"
   },
   {
    "duration": 8,
    "start_time": "2023-06-27T07:34:36.931Z"
   },
   {
    "duration": 4,
    "start_time": "2023-06-27T07:34:50.820Z"
   },
   {
    "duration": 4,
    "start_time": "2023-06-27T07:35:10.469Z"
   },
   {
    "duration": 5,
    "start_time": "2023-06-27T07:35:24.714Z"
   },
   {
    "duration": 15,
    "start_time": "2023-06-27T07:39:11.318Z"
   },
   {
    "duration": 7,
    "start_time": "2023-06-27T07:43:38.296Z"
   },
   {
    "duration": 8,
    "start_time": "2023-06-27T07:43:42.461Z"
   },
   {
    "duration": 3,
    "start_time": "2023-06-27T07:46:43.914Z"
   },
   {
    "duration": 4,
    "start_time": "2023-06-27T07:49:01.614Z"
   },
   {
    "duration": 3,
    "start_time": "2023-06-27T07:49:13.213Z"
   },
   {
    "duration": 3,
    "start_time": "2023-06-27T07:52:09.904Z"
   },
   {
    "duration": 4,
    "start_time": "2023-06-27T07:52:12.135Z"
   },
   {
    "duration": 4,
    "start_time": "2023-06-27T07:52:19.570Z"
   },
   {
    "duration": 9,
    "start_time": "2023-06-27T07:52:49.945Z"
   },
   {
    "duration": 7,
    "start_time": "2023-06-27T07:53:07.138Z"
   },
   {
    "duration": 5,
    "start_time": "2023-06-27T07:53:07.807Z"
   },
   {
    "duration": 4,
    "start_time": "2023-06-27T07:53:08.500Z"
   },
   {
    "duration": 4,
    "start_time": "2023-06-27T07:53:43.349Z"
   },
   {
    "duration": 5,
    "start_time": "2023-06-27T07:53:44.610Z"
   },
   {
    "duration": 4,
    "start_time": "2023-06-27T07:53:52.407Z"
   },
   {
    "duration": 7,
    "start_time": "2023-06-27T07:53:53.948Z"
   },
   {
    "duration": 12,
    "start_time": "2023-06-27T07:53:55.275Z"
   },
   {
    "duration": 8,
    "start_time": "2023-06-27T07:53:55.744Z"
   },
   {
    "duration": 3,
    "start_time": "2023-06-27T07:53:56.602Z"
   },
   {
    "duration": 4,
    "start_time": "2023-06-27T07:53:57.232Z"
   },
   {
    "duration": 2,
    "start_time": "2023-06-27T07:55:50.363Z"
   },
   {
    "duration": 5,
    "start_time": "2023-06-27T07:55:51.506Z"
   },
   {
    "duration": 4,
    "start_time": "2023-06-27T07:55:52.100Z"
   },
   {
    "duration": 7,
    "start_time": "2023-06-27T07:55:57.335Z"
   },
   {
    "duration": 206,
    "start_time": "2023-06-27T07:55:58.935Z"
   },
   {
    "duration": 267,
    "start_time": "2023-06-27T07:56:44.867Z"
   },
   {
    "duration": 45097,
    "start_time": "2023-06-27T07:56:45.136Z"
   },
   {
    "duration": 3,
    "start_time": "2023-06-27T07:57:30.236Z"
   },
   {
    "duration": 124,
    "start_time": "2023-06-27T07:57:30.242Z"
   },
   {
    "duration": 2,
    "start_time": "2023-06-27T07:58:11.429Z"
   },
   {
    "duration": 4,
    "start_time": "2023-06-27T07:58:12.849Z"
   },
   {
    "duration": 8,
    "start_time": "2023-06-27T07:58:14.801Z"
   },
   {
    "duration": 10,
    "start_time": "2023-06-27T07:58:16.512Z"
   },
   {
    "duration": 6,
    "start_time": "2023-06-27T08:00:22.330Z"
   },
   {
    "duration": 10,
    "start_time": "2023-06-27T08:00:24.867Z"
   },
   {
    "duration": 29554,
    "start_time": "2023-06-27T08:00:28.078Z"
   },
   {
    "duration": 3,
    "start_time": "2023-06-27T08:01:51.402Z"
   },
   {
    "duration": 4,
    "start_time": "2023-06-27T08:01:51.931Z"
   },
   {
    "duration": 3,
    "start_time": "2023-06-27T08:02:21.953Z"
   },
   {
    "duration": 4,
    "start_time": "2023-06-27T08:02:23.398Z"
   },
   {
    "duration": 61,
    "start_time": "2023-06-27T08:02:34.676Z"
   },
   {
    "duration": 178,
    "start_time": "2023-06-27T08:02:36.160Z"
   },
   {
    "duration": 29323,
    "start_time": "2023-06-27T08:02:38.515Z"
   },
   {
    "duration": 3,
    "start_time": "2023-06-27T08:03:11.710Z"
   },
   {
    "duration": 4,
    "start_time": "2023-06-27T08:03:13.909Z"
   },
   {
    "duration": 3,
    "start_time": "2023-06-27T08:05:17.003Z"
   },
   {
    "duration": 4,
    "start_time": "2023-06-27T08:05:20.004Z"
   },
   {
    "duration": 7,
    "start_time": "2023-06-27T08:05:23.760Z"
   },
   {
    "duration": 11,
    "start_time": "2023-06-27T08:05:32.411Z"
   },
   {
    "duration": 27332,
    "start_time": "2023-06-27T08:05:38.601Z"
   },
   {
    "duration": 3,
    "start_time": "2023-06-27T08:06:05.935Z"
   },
   {
    "duration": 104,
    "start_time": "2023-06-27T08:06:05.940Z"
   },
   {
    "duration": 3,
    "start_time": "2023-06-27T08:06:33.139Z"
   },
   {
    "duration": 4,
    "start_time": "2023-06-27T08:06:34.259Z"
   },
   {
    "duration": 7,
    "start_time": "2023-06-27T08:06:35.907Z"
   },
   {
    "duration": 11,
    "start_time": "2023-06-27T08:06:37.445Z"
   },
   {
    "duration": 3,
    "start_time": "2023-06-27T08:06:53.452Z"
   },
   {
    "duration": 6,
    "start_time": "2023-06-27T08:06:54.725Z"
   },
   {
    "duration": 9,
    "start_time": "2023-06-27T08:06:56.045Z"
   },
   {
    "duration": 9,
    "start_time": "2023-06-27T08:06:57.720Z"
   },
   {
    "duration": 2,
    "start_time": "2023-06-27T08:07:07.336Z"
   },
   {
    "duration": 4,
    "start_time": "2023-06-27T08:07:08.514Z"
   },
   {
    "duration": 6,
    "start_time": "2023-06-27T08:07:09.748Z"
   },
   {
    "duration": 5,
    "start_time": "2023-06-27T08:07:10.991Z"
   },
   {
    "duration": 5,
    "start_time": "2023-06-27T08:07:15.967Z"
   },
   {
    "duration": 3,
    "start_time": "2023-06-27T08:07:16.543Z"
   },
   {
    "duration": 3,
    "start_time": "2023-06-27T08:07:17.169Z"
   },
   {
    "duration": 4,
    "start_time": "2023-06-27T08:08:26.863Z"
   },
   {
    "duration": 2,
    "start_time": "2023-06-27T08:08:31.868Z"
   },
   {
    "duration": 4,
    "start_time": "2023-06-27T08:08:33.099Z"
   },
   {
    "duration": 14,
    "start_time": "2023-06-27T08:08:34.806Z"
   },
   {
    "duration": 3,
    "start_time": "2023-06-27T08:08:35.836Z"
   },
   {
    "duration": 6,
    "start_time": "2023-06-27T08:08:36.409Z"
   },
   {
    "duration": 4,
    "start_time": "2023-06-27T08:08:37.196Z"
   },
   {
    "duration": 4,
    "start_time": "2023-06-27T08:08:38.125Z"
   },
   {
    "duration": 5,
    "start_time": "2023-06-27T08:11:39.963Z"
   },
   {
    "duration": 4,
    "start_time": "2023-06-27T08:12:48.513Z"
   },
   {
    "duration": 95,
    "start_time": "2023-06-27T08:15:01.070Z"
   },
   {
    "duration": 5,
    "start_time": "2023-06-27T08:25:02.609Z"
   },
   {
    "duration": 178,
    "start_time": "2023-06-27T09:03:10.856Z"
   },
   {
    "duration": 8,
    "start_time": "2023-06-27T09:04:17.608Z"
   },
   {
    "duration": 9,
    "start_time": "2023-06-27T09:17:54.036Z"
   },
   {
    "duration": 9,
    "start_time": "2023-06-27T09:19:22.001Z"
   },
   {
    "duration": 9,
    "start_time": "2023-06-27T09:35:05.138Z"
   },
   {
    "duration": 3,
    "start_time": "2023-06-27T09:35:29.753Z"
   },
   {
    "duration": 3,
    "start_time": "2023-06-27T09:37:05.201Z"
   },
   {
    "duration": 76,
    "start_time": "2023-06-27T09:41:41.042Z"
   },
   {
    "duration": 3,
    "start_time": "2023-06-27T09:46:16.404Z"
   },
   {
    "duration": 8,
    "start_time": "2023-06-27T09:46:16.796Z"
   },
   {
    "duration": 7,
    "start_time": "2023-06-27T09:46:58.685Z"
   },
   {
    "duration": 4,
    "start_time": "2023-06-27T09:46:59.697Z"
   },
   {
    "duration": 4,
    "start_time": "2023-06-27T09:47:00.142Z"
   },
   {
    "duration": 3,
    "start_time": "2023-06-27T09:47:02.163Z"
   },
   {
    "duration": 8,
    "start_time": "2023-06-27T09:47:13.914Z"
   },
   {
    "duration": 9,
    "start_time": "2023-06-27T09:47:33.229Z"
   },
   {
    "duration": 4,
    "start_time": "2023-06-27T09:47:35.110Z"
   },
   {
    "duration": 1485,
    "start_time": "2023-06-27T10:47:42.551Z"
   },
   {
    "duration": 30,
    "start_time": "2023-06-27T10:47:44.038Z"
   },
   {
    "duration": 19,
    "start_time": "2023-06-27T10:47:44.071Z"
   },
   {
    "duration": 18,
    "start_time": "2023-06-27T10:47:44.092Z"
   },
   {
    "duration": 12,
    "start_time": "2023-06-27T10:47:44.113Z"
   },
   {
    "duration": 5,
    "start_time": "2023-06-27T10:47:44.128Z"
   },
   {
    "duration": 37,
    "start_time": "2023-06-27T10:47:44.135Z"
   },
   {
    "duration": 15,
    "start_time": "2023-06-27T10:47:44.174Z"
   },
   {
    "duration": 184,
    "start_time": "2023-06-27T10:47:44.192Z"
   },
   {
    "duration": 131,
    "start_time": "2023-06-27T10:47:44.377Z"
   },
   {
    "duration": 151,
    "start_time": "2023-06-27T10:47:44.509Z"
   },
   {
    "duration": 154,
    "start_time": "2023-06-27T10:47:44.662Z"
   },
   {
    "duration": 196,
    "start_time": "2023-06-27T10:47:44.818Z"
   },
   {
    "duration": 4,
    "start_time": "2023-06-27T10:47:45.017Z"
   },
   {
    "duration": 44,
    "start_time": "2023-06-27T10:47:45.022Z"
   },
   {
    "duration": 31,
    "start_time": "2023-06-27T10:47:45.068Z"
   },
   {
    "duration": 51,
    "start_time": "2023-06-27T10:47:45.101Z"
   },
   {
    "duration": 108,
    "start_time": "2023-06-27T10:47:45.153Z"
   },
   {
    "duration": 100,
    "start_time": "2023-06-27T10:47:45.264Z"
   },
   {
    "duration": 113,
    "start_time": "2023-06-27T10:47:45.366Z"
   },
   {
    "duration": 78,
    "start_time": "2023-06-27T10:47:45.483Z"
   },
   {
    "duration": 17,
    "start_time": "2023-06-27T10:47:45.562Z"
   },
   {
    "duration": 31,
    "start_time": "2023-06-27T10:47:45.581Z"
   },
   {
    "duration": 155,
    "start_time": "2023-06-27T10:47:45.614Z"
   },
   {
    "duration": 94,
    "start_time": "2023-06-27T10:47:45.771Z"
   },
   {
    "duration": 56,
    "start_time": "2023-06-27T17:13:17.682Z"
   },
   {
    "duration": 6,
    "start_time": "2023-06-27T17:13:25.543Z"
   },
   {
    "duration": 7,
    "start_time": "2023-06-27T17:15:21.038Z"
   },
   {
    "duration": 78,
    "start_time": "2023-06-27T17:15:27.695Z"
   },
   {
    "duration": 88,
    "start_time": "2023-06-27T18:05:15.074Z"
   },
   {
    "duration": 88,
    "start_time": "2023-06-27T18:06:24.988Z"
   },
   {
    "duration": 4,
    "start_time": "2023-06-27T18:31:58.088Z"
   },
   {
    "duration": 9,
    "start_time": "2023-06-27T18:35:22.243Z"
   },
   {
    "duration": 1899,
    "start_time": "2023-06-27T18:39:15.046Z"
   },
   {
    "duration": 96,
    "start_time": "2023-06-27T18:39:16.947Z"
   },
   {
    "duration": 15,
    "start_time": "2023-06-27T18:39:18.165Z"
   },
   {
    "duration": 20,
    "start_time": "2023-06-27T18:39:18.880Z"
   },
   {
    "duration": 8,
    "start_time": "2023-06-27T18:39:19.587Z"
   },
   {
    "duration": 8,
    "start_time": "2023-06-27T18:39:20.157Z"
   },
   {
    "duration": 8,
    "start_time": "2023-06-27T18:39:20.693Z"
   },
   {
    "duration": 7,
    "start_time": "2023-06-27T18:39:21.212Z"
   },
   {
    "duration": 149,
    "start_time": "2023-06-27T18:39:23.543Z"
   },
   {
    "duration": 141,
    "start_time": "2023-06-27T18:39:24.260Z"
   },
   {
    "duration": 161,
    "start_time": "2023-06-27T18:39:24.952Z"
   },
   {
    "duration": 144,
    "start_time": "2023-06-27T18:39:25.615Z"
   },
   {
    "duration": 229,
    "start_time": "2023-06-27T18:39:26.212Z"
   },
   {
    "duration": 5,
    "start_time": "2023-06-27T18:39:52.643Z"
   },
   {
    "duration": 3,
    "start_time": "2023-06-27T18:39:54.326Z"
   },
   {
    "duration": 122,
    "start_time": "2023-06-27T18:39:55.980Z"
   },
   {
    "duration": 102,
    "start_time": "2023-06-27T18:40:38.256Z"
   },
   {
    "duration": 12,
    "start_time": "2023-06-27T18:41:01.677Z"
   },
   {
    "duration": 4,
    "start_time": "2023-06-27T18:41:03.140Z"
   },
   {
    "duration": 11,
    "start_time": "2023-06-27T18:41:03.961Z"
   },
   {
    "duration": 7,
    "start_time": "2023-06-27T18:41:05.162Z"
   },
   {
    "duration": 5,
    "start_time": "2023-06-27T18:41:05.734Z"
   },
   {
    "duration": 7,
    "start_time": "2023-06-27T18:41:10.070Z"
   },
   {
    "duration": 4,
    "start_time": "2023-06-27T18:41:10.931Z"
   },
   {
    "duration": 160,
    "start_time": "2023-06-27T18:41:13.797Z"
   },
   {
    "duration": 22,
    "start_time": "2023-06-27T18:41:14.884Z"
   },
   {
    "duration": 5,
    "start_time": "2023-06-27T18:41:18.134Z"
   },
   {
    "duration": 91,
    "start_time": "2023-06-27T18:43:23.045Z"
   }
  ],
  "kernelspec": {
   "display_name": "Python 3 (ipykernel)",
   "language": "python",
   "name": "python3"
  },
  "language_info": {
   "codemirror_mode": {
    "name": "ipython",
    "version": 3
   },
   "file_extension": ".py",
   "mimetype": "text/x-python",
   "name": "python",
   "nbconvert_exporter": "python",
   "pygments_lexer": "ipython3",
   "version": "3.9.5"
  },
  "toc": {
   "base_numbering": 1,
   "nav_menu": {},
   "number_sections": true,
   "sideBar": false,
   "skip_h1_title": true,
   "title_cell": "Содержание",
   "title_sidebar": "Contents",
   "toc_cell": true,
   "toc_position": {
    "height": "47.6875px",
    "left": "65px",
    "top": "145.125px",
    "width": "159px"
   },
   "toc_section_display": false,
   "toc_window_display": true
  }
 },
 "nbformat": 4,
 "nbformat_minor": 2
}
